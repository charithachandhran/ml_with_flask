{
 "cells": [
  {
   "cell_type": "code",
   "execution_count": 6,
   "id": "d97663b5",
   "metadata": {},
   "outputs": [
    {
     "name": "stdout",
     "output_type": "stream",
     "text": [
      "Apple\n",
      "Cherry\n",
      "Elderberry\n"
     ]
    }
   ],
   "source": [
    "fruits = [\"Apple\", \"Banana\", \"Cherry\", \"Date\", \"Elderberry\"]\n",
    "print(fruits[0]) \n",
    "print(fruits[2]) \n",
    "print(fruits[-1])"
   ]
  },
  {
   "cell_type": "code",
   "execution_count": 7,
   "id": "7c9843b6",
   "metadata": {},
   "outputs": [
    {
     "name": "stdout",
     "output_type": "stream",
     "text": [
      "Blue\n",
      "Purple\n",
      "Green\n"
     ]
    }
   ],
   "source": [
    "colors = (\"Red\", \"Blue\", \"Green\", \"Yellow\", \"Purple\")\n",
    "print(colors[1])\n",
    "print(colors[4])\n",
    "print(colors[-3])"
   ]
  },
  {
   "cell_type": "code",
   "execution_count": null,
   "id": "4e7fc571",
   "metadata": {},
   "outputs": [],
   "source": [
    "person = {\n",
    "    \"name\": \"Alice\",\n",
    "    \"age\": 25,\n",
    "    \"city\": \"New York\",\n",
    "    \"profession\": \"Engineer\",\n",
    "    \"hobby\": \"Painting\"\n",
    "}\n",
    "print(person[\"name\"])\n",
    "print(person[\"profession\"])"
   ]
  }
 ],
 "metadata": {
  "kernelspec": {
   "display_name": "Python 3 (ipykernel)",
   "language": "python",
   "name": "python3"
  },
  "language_info": {
   "codemirror_mode": {
    "name": "ipython",
    "version": 3
   },
   "file_extension": ".py",
   "mimetype": "text/x-python",
   "name": "python",
   "nbconvert_exporter": "python",
   "pygments_lexer": "ipython3",
   "version": "3.11.5"
  }
 },
 "nbformat": 4,
 "nbformat_minor": 5
}
