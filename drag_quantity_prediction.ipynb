import pandas as pd
import random
from sklearn.model_selection import train_test_split
from sklearn.linear_model import LinearRegression
from sklearn.ensemble import RandomForestRegressor
from sklearn.tree import DecisionTreeRegressor
from sklearn.metrics import mean_squared_error
import xgboost as xgb
import numpy as np

data = {
    'drag_coefficient': [random.uniform(0.1, 0.5) for _ in range(100)],
    'velocity': [random.uniform(10, 50) for _ in range(100)],
    'area': [random.uniform(0.5, 2.0) for _ in range(100)],
    'density': [random.uniform(1.0, 1.5) for _ in range(100)],
    'quantity': [random.uniform(5, 25) for _ in range(100)]
}
df = pd.DataFrame(data)

X = df[['drag_coefficient', 'velocity', 'area', 'density']]
y = df['quantity']


X_train, X_test, y_train, y_test = train_test_split(X, y, test_size=0.2, random_state=42)

model = RandomForestRegressor()

model.fit(X_train, y_train)

y_pred = model.predict(X_test)

mse = mean_squared_error(y_test, y_pred)
print(f"Mean Squared Error: {mse}")

new_data = pd.DataFrame({
    'drag_coefficient': [0.25],
    'velocity': [25],
    'area': [1.0],
    'density': [1.2]
})
predicted_quantity = model.predict(new_data)
print(f"Predicted quantity: {predicted_quantity[0]}")

